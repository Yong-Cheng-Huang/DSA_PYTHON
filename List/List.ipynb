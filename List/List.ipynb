{
 "cells": [
  {
   "cell_type": "code",
   "execution_count": 2,
   "id": "8cd02d7b",
   "metadata": {},
   "outputs": [
    {
     "name": "stdout",
     "output_type": "stream",
     "text": [
      "k\n"
     ]
    }
   ],
   "source": [
    "li = ['Harsh', 'Pratik', 'Bob', 'Dhruv']\n",
    "print(li[1][-1])"
   ]
  },
  {
   "cell_type": "code",
   "execution_count": 3,
   "id": "4a685d1d",
   "metadata": {},
   "outputs": [
    {
     "name": "stdout",
     "output_type": "stream",
     "text": [
      "[1, 2, 3, 4, [5, 6, 7, 8]]\n"
     ]
    }
   ],
   "source": [
    "li = [1, 2, 3, 4]\n",
    "li.append([5, 6, 7, 8])\n",
    "print(li)"
   ]
  },
  {
   "cell_type": "code",
   "execution_count": 4,
   "id": "09db67bd",
   "metadata": {},
   "outputs": [
    {
     "name": "stdout",
     "output_type": "stream",
     "text": [
      "[10, 20, 30, 40, 10]\n"
     ]
    }
   ],
   "source": [
    "def addToList(a):\n",
    "    a += [10]\n",
    "b = [10, 20, 30, 40]\n",
    "addToList(b)\n",
    "print(b)"
   ]
  },
  {
   "cell_type": "code",
   "execution_count": 9,
   "id": "94796a0a",
   "metadata": {},
   "outputs": [
    {
     "name": "stdout",
     "output_type": "stream",
     "text": [
      "12\n"
     ]
    }
   ],
   "source": [
    "a = ['Learn', 'Quiz', 'Practice', 'Contribute']\n",
    "b = a\n",
    "c = a[:]\n",
    "\n",
    "b[0] = 'Code'\n",
    "c[1] = 'Mcq'\n",
    "\n",
    "count = 0\n",
    "for c in (a, b, c):\n",
    "\tif c[0] == 'Code':\n",
    "\t\tcount += 1\n",
    "\tif c[1] == 'Mcq':\n",
    "\t\tcount += 10\n",
    "\n",
    "print(count)"
   ]
  },
  {
   "cell_type": "code",
   "execution_count": 10,
   "id": "6595163b",
   "metadata": {},
   "outputs": [
    {
     "name": "stdout",
     "output_type": "stream",
     "text": [
      "[3, 2, 1, 0, 1, 4]\n"
     ]
    }
   ],
   "source": [
    "def gfg(x, li=[]):\n",
    "    for i in range(x):\n",
    "        li.append(i * i)\n",
    "    print(li)\n",
    "gfg(3, [3,2,1])"
   ]
  },
  {
   "cell_type": "code",
   "execution_count": 15,
   "id": "69eb1ed7",
   "metadata": {},
   "outputs": [
    {
     "name": "stdout",
     "output_type": "stream",
     "text": [
      "5\n"
     ]
    }
   ],
   "source": [
    "# statement 1\n",
    "li = range(100, 110) # range object\n",
    "# li = list(li) # convert to list\n",
    "\n",
    "# statement 2\n",
    "print(li.index(105))"
   ]
  },
  {
   "cell_type": "code",
   "execution_count": 16,
   "id": "5d8764c2",
   "metadata": {},
   "outputs": [
    {
     "name": "stdout",
     "output_type": "stream",
     "text": [
      "[0, 2, 3, 4, 5]\n"
     ]
    }
   ],
   "source": [
    "a = [1, 2, 3, 4, 5]\n",
    "b = a\n",
    "b[0] = 0\n",
    "\n",
    "print(a)"
   ]
  },
  {
   "cell_type": "code",
   "execution_count": 17,
   "id": "c5767397",
   "metadata": {},
   "outputs": [
    {
     "name": "stdout",
     "output_type": "stream",
     "text": [
      "[1998, 2002, 2014, 2016, 1998, 2002, 2014, 2016]\n"
     ]
    }
   ],
   "source": [
    "a = [1998, 2002]\n",
    "b = [2014, 2016]\n",
    "\n",
    "print((a + b)*2)"
   ]
  },
  {
   "cell_type": "code",
   "execution_count": 20,
   "id": "bbffcd97",
   "metadata": {},
   "outputs": [
    {
     "name": "stdout",
     "output_type": "stream",
     "text": [
      "y\n"
     ]
    }
   ],
   "source": [
    "a = ['physics', 'chemistry', 1997, 2000]\n",
    "print(a[1][-1])"
   ]
  },
  {
   "cell_type": "code",
   "execution_count": 23,
   "id": "1d7593c3",
   "metadata": {},
   "outputs": [
    {
     "name": "stdout",
     "output_type": "stream",
     "text": [
      "6\n"
     ]
    }
   ],
   "source": [
    "a = [1, 2, 3, None, (1, 2, 3, 4, 5), ['Geeks', 'for', 'Geeks']]\n",
    "print(len(a))"
   ]
  },
  {
   "cell_type": "code",
   "execution_count": 24,
   "id": "48376aa9",
   "metadata": {},
   "outputs": [
    {
     "name": "stdout",
     "output_type": "stream",
     "text": [
      "['python', '@', 'for']\n"
     ]
    }
   ],
   "source": [
    "a = ['python', 'learning', '@', 'Geeks', 'for', 'Geeks']\n",
    "print(a[0:6:2])"
   ]
  },
  {
   "cell_type": "code",
   "execution_count": 25,
   "id": "97586c41",
   "metadata": {},
   "outputs": [
    {
     "name": "stdout",
     "output_type": "stream",
     "text": [
      "[9, 18, 27, 36, 45]\n"
     ]
    }
   ],
   "source": [
    "a = [10, 20, 30, 40, 50]\n",
    "b = [1, 2, 3, 4, 5]\n",
    "\n",
    "\n",
    "subtracted = list()\n",
    "for a, b in zip(a, b):\n",
    "    item = a - b\n",
    "    subtracted.append(item)\n",
    "\n",
    "print(subtracted)"
   ]
  },
  {
   "cell_type": "code",
   "execution_count": 26,
   "id": "4243b557",
   "metadata": {},
   "outputs": [
    {
     "name": "stdout",
     "output_type": "stream",
     "text": [
      "[]\n"
     ]
    }
   ],
   "source": [
    "li = ['a', 'b', 'c', 'd', 'e']\n",
    "print(li[10:])"
   ]
  },
  {
   "cell_type": "code",
   "execution_count": 31,
   "id": "aa9289bf",
   "metadata": {},
   "outputs": [
    {
     "name": "stdout",
     "output_type": "stream",
     "text": [
      "[]\n"
     ]
    }
   ],
   "source": [
    "li = ['a', 'b', 'c'] * -3\n",
    "print(li)"
   ]
  },
  {
   "cell_type": "code",
   "execution_count": null,
   "id": "e9b4a76e",
   "metadata": {},
   "outputs": [
    {
     "name": "stdout",
     "output_type": "stream",
     "text": [
      "[[[2, 3, 9]], [[2, 3, 9]], [[2, 3, 9]]]\n"
     ]
    }
   ],
   "source": [
    "li = [2, 3, 9]\n",
    "li = [[x for x in [li]] for x in range(3)]\n",
    "print(li)"
   ]
  },
  {
   "cell_type": "code",
   "execution_count": 43,
   "id": "570d33a4",
   "metadata": {},
   "outputs": [
    {
     "name": "stdout",
     "output_type": "stream",
     "text": [
      "[0, 2, 4]\n"
     ]
    }
   ],
   "source": [
    "a = [x for x in range(5)]\n",
    "b = [x for x in range(7) if x in a and x % 2 == 0]\n",
    "print(b)"
   ]
  },
  {
   "cell_type": "code",
   "execution_count": 44,
   "id": "4d80d3e1",
   "metadata": {},
   "outputs": [
    {
     "name": "stdout",
     "output_type": "stream",
     "text": [
      "['G', 'F', 'G']\n"
     ]
    }
   ],
   "source": [
    "a = ['Geeks', 'for', 'Geeks']\n",
    "b = [i[0].upper() for i in a]\n",
    "print(b)"
   ]
  },
  {
   "cell_type": "code",
   "execution_count": 45,
   "id": "9e463b9c",
   "metadata": {},
   "outputs": [
    {
     "name": "stdout",
     "output_type": "stream",
     "text": [
      "[2, 2, 6, 4, 4]\n"
     ]
    }
   ],
   "source": [
    "a = 'Geeks 22536 for 445 Geeks'\n",
    "b = [x for x in (int(x) for x in a if x.isdigit()) if x % 2 == 0]\n",
    "print(b)"
   ]
  },
  {
   "cell_type": "code",
   "execution_count": 53,
   "id": "bd6a7d3c",
   "metadata": {},
   "outputs": [
    {
     "name": "stdout",
     "output_type": "stream",
     "text": [
      "[]\n"
     ]
    }
   ],
   "source": [
    "a = [x for x in (x for x in 'Geeks 22966 for Geeks' if x.isdigit()) if\n",
    "     (x in ([x for x in range(20)]))]\n",
    "print(a)\n",
    "# Explanation: Since here x has not been converted to int, the condition in the if statement fails and therefore, the list remains empty."
   ]
  },
  {
   "cell_type": "code",
   "execution_count": 54,
   "id": "9f1da7ac",
   "metadata": {},
   "outputs": [
    {
     "name": "stdout",
     "output_type": "stream",
     "text": [
      "11\n"
     ]
    }
   ],
   "source": [
    "a = []\n",
    "a.append([1, [2, 3], 4])\n",
    "a.extend([7, 8, 9])\n",
    "print(a[0][1][1] + a[2])"
   ]
  },
  {
   "cell_type": "code",
   "execution_count": 55,
   "id": "64e9ec08",
   "metadata": {},
   "outputs": [
    {
     "name": "stdout",
     "output_type": "stream",
     "text": [
      "2.33 GFGNO\n"
     ]
    }
   ],
   "source": [
    "li = [1, 1.33, 'GFG', 0, 'NO', None, 'G', True]\n",
    "val1, val2 = 0, ''\n",
    "for x in li:\n",
    "\tif (type(x) == int or type(x) == float):\n",
    "\t\tval1 += x\n",
    "\telif (type(x) == str):\n",
    "\t\tval2 += x\n",
    "\telse:\n",
    "\t\t# String ‘G’ will not be part of val2 as the for loop will break at None, thus ‘G’ will not be added to val2.\n",
    "\t\tbreak\n",
    "print(val1, val2)"
   ]
  },
  {
   "cell_type": "code",
   "execution_count": 56,
   "id": "dce032b3",
   "metadata": {},
   "outputs": [
    {
     "name": "stdout",
     "output_type": "stream",
     "text": [
      "[[5], 2, 3, 4] [[5], 2, 3, 4] [1, 2, 3, 4] [[5], 2, 3, 4]\n"
     ]
    }
   ],
   "source": [
    "a = [1, 2, 3, 4]\n",
    "b = a\n",
    "c = a.copy()\n",
    "d = a\n",
    "a[0] = [5]\n",
    "print(a, b, c, d)"
   ]
  },
  {
   "cell_type": "code",
   "execution_count": 57,
   "id": "829ec173",
   "metadata": {},
   "outputs": [
    {
     "name": "stdout",
     "output_type": "stream",
     "text": [
      "5 "
     ]
    }
   ],
   "source": [
    "li = [1, 3, 5, 7, 9]\n",
    "print(li.pop(-3), end=' ')"
   ]
  },
  {
   "cell_type": "code",
   "execution_count": 60,
   "id": "30bd395a",
   "metadata": {},
   "outputs": [
    {
     "name": "stdout",
     "output_type": "stream",
     "text": [
      "[7.531, 5.31, 3.1, 1]\n"
     ]
    }
   ],
   "source": [
    "def REVERSE(a):\n",
    "\ta.reverse()\n",
    "\treturn (a)\n",
    "\n",
    "\n",
    "def YKNJS(a):\n",
    "\tb = []\n",
    "\tb.extend(REVERSE(a))\n",
    "\tprint(b)\n",
    "\n",
    "\n",
    "a = [1, 3.1, 5.31, 7.531]\n",
    "YKNJS(a)"
   ]
  },
  {
   "cell_type": "code",
   "execution_count": 62,
   "id": "fac4201f",
   "metadata": {},
   "outputs": [
    {
     "ename": "ValueError",
     "evalue": "'GeeksforGeeks' is not in list",
     "output_type": "error",
     "traceback": [
      "\u001b[31m---------------------------------------------------------------------------\u001b[39m",
      "\u001b[31mValueError\u001b[39m                                Traceback (most recent call last)",
      "\u001b[36mCell\u001b[39m\u001b[36m \u001b[39m\u001b[32mIn[62]\u001b[39m\u001b[32m, line 3\u001b[39m\n\u001b[32m      1\u001b[39m nameList = [\u001b[33m'\u001b[39m\u001b[33mHarsh\u001b[39m\u001b[33m'\u001b[39m, \u001b[33m'\u001b[39m\u001b[33mPratik\u001b[39m\u001b[33m'\u001b[39m, \u001b[33m'\u001b[39m\u001b[33mBob\u001b[39m\u001b[33m'\u001b[39m, \u001b[33m'\u001b[39m\u001b[33mDhruv\u001b[39m\u001b[33m'\u001b[39m]\n\u001b[32m----> \u001b[39m\u001b[32m3\u001b[39m pos = \u001b[43mnameList\u001b[49m\u001b[43m.\u001b[49m\u001b[43mindex\u001b[49m\u001b[43m(\u001b[49m\u001b[33;43m\"\u001b[39;49m\u001b[33;43mGeeksforGeeks\u001b[39;49m\u001b[33;43m\"\u001b[39;49m\u001b[43m)\u001b[49m\n\u001b[32m      5\u001b[39m \u001b[38;5;28mprint\u001b[39m(pos * \u001b[32m3\u001b[39m)\n",
      "\u001b[31mValueError\u001b[39m: 'GeeksforGeeks' is not in list"
     ]
    }
   ],
   "source": [
    "nameList = ['Harsh', 'Pratik', 'Bob', 'Dhruv']\n",
    "\n",
    "pos = nameList.index(\"GeeksforGeeks\")\n",
    "\n",
    "print(pos * 3)"
   ]
  }
 ],
 "metadata": {
  "kernelspec": {
   "display_name": ".venv",
   "language": "python",
   "name": "python3"
  },
  "language_info": {
   "codemirror_mode": {
    "name": "ipython",
    "version": 3
   },
   "file_extension": ".py",
   "mimetype": "text/x-python",
   "name": "python",
   "nbconvert_exporter": "python",
   "pygments_lexer": "ipython3",
   "version": "3.12.4"
  }
 },
 "nbformat": 4,
 "nbformat_minor": 5
}
