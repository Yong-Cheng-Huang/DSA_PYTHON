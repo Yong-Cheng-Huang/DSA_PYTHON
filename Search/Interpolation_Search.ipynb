{
 "cells": [
  {
   "cell_type": "markdown",
   "metadata": {},
   "source": [
    "### Interpolation Search\n",
    "\n",
    "The Interpolation Search is an improvement over Binary Search for instances, where the values in a sorted array are uniformly distributed.\n",
    "\n",
    "#### Steps:\n",
    "\n",
    "1. Calculate the probable position of the target value using interpolation formula.\n",
    "\n",
    "2. Compare the target value with the element at the calculated position.\n",
    "\n",
    "3. If the element matches the target value, return its index.\n",
    "\n",
    "4. If the element is less than the target value, search in the right half of the list.\n",
    "\n",
    "5. If the element is greater than the target value, search in the left half of the list.\n",
    "\n",
    "6. Repeat steps 1-5 until the target value is found or the search interval is empty.\n",
    "\n",
    "#### 內插法\n",
    "設 (left,data[left]) , (right,data[right]) 為上限及下線的索引及所對應的數值\n",
    "\n",
    "兩點間的斜率為：\n",
    "$$\n",
    "m = \\frac{\\text{data[right]} - \\text{data[left]}}{\\text{right} - \\text{left}}\n",
    "$$\n",
    "\n",
    "使用點斜式造出通過此兩點的線：\n",
    "$$\n",
    "y - \\text{data[left]} = m \\cdot (x - \\text{left})\n",
    "$$\n",
    "\n",
    "設被搜尋數為number，而透過內插法求出他可能的索引值index將(index,number)代入上式整理後得：\n",
    "$$\n",
    "\\text{index} = \\text{left} + \\frac{(\\text{number} - \\text{data[left]}) \\cdot (\\text{right} - \\text{left})}{\\text{data[right]} - \\text{data[left]}}\n",
    "$$\n",
    "\n",
    "Time Complexity: O(log2(log2 n)) for the average case, and O(n) for the worst case "
   ]
  },
  {
   "cell_type": "code",
   "execution_count": 13,
   "metadata": {},
   "outputs": [
    {
     "name": "stdout",
     "output_type": "stream",
     "text": [
      "Interpolation Search: Element found at index 4\n"
     ]
    }
   ],
   "source": [
    "def interpolation_search(arr, target):\n",
    "    low = 0\n",
    "    high = len(arr) - 1\n",
    "\n",
    "    while low <= high and arr[low] <= target <= arr[high]:\n",
    "        if arr[high] == arr[low]:\n",
    "            if arr[low] == target:\n",
    "                return low\n",
    "            else:\n",
    "                break\n",
    "\n",
    "        pos = low + ((target - arr[low]) * (high - low) //\n",
    "                     (arr[high] - arr[low]))\n",
    "\n",
    "        if arr[pos] == target:\n",
    "            return pos\n",
    "        elif arr[pos] < target:\n",
    "            low = pos + 1\n",
    "        else:\n",
    "            high = pos - 1\n",
    "\n",
    "    return -1\n",
    "\n",
    "# Example usage:\n",
    "arr = [2, 3, 4, 10, 40]\n",
    "target = 40\n",
    "result = interpolation_search(sorted(arr), target)\n",
    "if result != -1:\n",
    "    print(f\"Interpolation Search: Element found at index {result}\")\n",
    "else:\n",
    "    print(\"Interpolation Search: Element not found\")"
   ]
  }
 ],
 "metadata": {
  "kernelspec": {
   "display_name": ".venv",
   "language": "python",
   "name": "python3"
  },
  "language_info": {
   "codemirror_mode": {
    "name": "ipython",
    "version": 3
   },
   "file_extension": ".py",
   "mimetype": "text/x-python",
   "name": "python",
   "nbconvert_exporter": "python",
   "pygments_lexer": "ipython3",
   "version": "3.12.4"
  }
 },
 "nbformat": 4,
 "nbformat_minor": 2
}
