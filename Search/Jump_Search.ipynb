{
 "cells": [
  {
   "cell_type": "markdown",
   "metadata": {},
   "source": [
    "### Jump Search\n",
    "\n",
    "Jump search is another searching alogorithm suitable for sorted array. It jumps ahead by a fixed number of steps and then performs a linear search in the small range.\n",
    "\n",
    "![Binary Search Illustration](img/jump_search.jpg)\n",
    "\n",
    "#### Steps:\n",
    "\n",
    "1. Determine the block size to jump ahead.\n",
    "\n",
    "2. Jump ahead by block size until the target value is greater than the current block's last element.\n",
    "\n",
    "3. Perform linear search within the current block to find the target value.\n",
    "\n",
    "4. If the target value is found, return its index.\n",
    "\n",
    "5. If the target value is not found after iterating through all blocks, return -1.\n",
    "\n",
    "Time Complexity: O(sqrt(n))"
   ]
  },
  {
   "cell_type": "code",
   "execution_count": 4,
   "metadata": {},
   "outputs": [
    {
     "name": "stdout",
     "output_type": "stream",
     "text": [
      "Jump Search: Element found at index 4\n"
     ]
    }
   ],
   "source": [
    "import math\n",
    "\n",
    "def jump_search(arr, target):\n",
    "    jump_size = int(math.sqrt(len(arr)))\n",
    "    current = 0\n",
    "    while arr[current] < target:\n",
    "        if current + jump_size > len(arr) - 1:\n",
    "            current = len(arr) - 1\n",
    "        else:\n",
    "            current += jump_size\n",
    "\n",
    "    for i in range(current, current - jump_size, -1):\n",
    "        if arr[i] == target:\n",
    "            return i\n",
    "\n",
    "    return -1\n",
    "\n",
    "arr = [2, 3, 4, 10, 40]\n",
    "target = 40\n",
    "result = jump_search(sorted(arr), target)\n",
    "if result != -1:\n",
    "    print(f'Jump Search: Element found at index {result}')\n",
    "else:\n",
    "    print('Jump Search: Element not found')"
   ]
  }
 ],
 "metadata": {
  "kernelspec": {
   "display_name": ".venv",
   "language": "python",
   "name": "python3"
  },
  "language_info": {
   "codemirror_mode": {
    "name": "ipython",
    "version": 3
   },
   "file_extension": ".py",
   "mimetype": "text/x-python",
   "name": "python",
   "nbconvert_exporter": "python",
   "pygments_lexer": "ipython3",
   "version": "3.12.4"
  }
 },
 "nbformat": 4,
 "nbformat_minor": 2
}
