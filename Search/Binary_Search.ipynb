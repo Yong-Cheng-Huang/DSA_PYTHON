{
 "cells": [
  {
   "cell_type": "markdown",
   "metadata": {},
   "source": [
    "### Binary Search\n",
    "\n",
    "Efficient search on a sorted list.\n",
    "\n",
    "#### Steps:\n",
    "\n",
    "1. Start with the entire sorted list.\n",
    "\n",
    "2. Find middle element.\n",
    "\n",
    "3. If middle == target → return index.\n",
    "\n",
    "4. If middle < target → search right half.\n",
    "\n",
    "5. If middle > target → search left half.\n",
    "\n",
    "6. Repeat until found or empty.\n",
    "\n",
    "Time Complexity: O(log n)"
   ]
  },
  {
   "cell_type": "code",
   "execution_count": 5,
   "metadata": {},
   "outputs": [
    {
     "name": "stdout",
     "output_type": "stream",
     "text": [
      "Binary Search: Element found at index 4\n"
     ]
    }
   ],
   "source": [
    "def binary_search(arr, target, low, high):\n",
    "    # Recursive\n",
    "    if low <= high:\n",
    "        mid = (low + high) // 2\n",
    "        if arr[mid] == target:\n",
    "            return mid\n",
    "        elif arr[mid] < target:\n",
    "            return binary_search(arr, target, mid + 1, high)\n",
    "        else:\n",
    "            return binary_search(arr, target, low, mid - 1)\n",
    "    return -1\n",
    "\n",
    "    # While\n",
    "    while low <= high :\n",
    "        mid = (low + high) // 2\n",
    "        if arr[mid] == target:\n",
    "            return mid\n",
    "        elif arr[mid] < target:\n",
    "            low = mid + 1\n",
    "        else:\n",
    "            high = mid - 1\n",
    "    return -1\n",
    "\n",
    "arr = [2, 3, 4, 5, 10, 40]\n",
    "target = 10\n",
    "result = binary_search(sorted(arr), target, 0, len(arr) - 1)\n",
    "if result != -1:\n",
    "    print(f\"Binary Search: Element found at index {result}\")\n",
    "else:\n",
    "    print(\"Binary Search: Element not found\")"
   ]
  }
 ],
 "metadata": {
  "kernelspec": {
   "display_name": ".venv",
   "language": "python",
   "name": "python3"
  },
  "language_info": {
   "codemirror_mode": {
    "name": "ipython",
    "version": 3
   },
   "file_extension": ".py",
   "mimetype": "text/x-python",
   "name": "python",
   "nbconvert_exporter": "python",
   "pygments_lexer": "ipython3",
   "version": "3.12.4"
  }
 },
 "nbformat": 4,
 "nbformat_minor": 2
}
