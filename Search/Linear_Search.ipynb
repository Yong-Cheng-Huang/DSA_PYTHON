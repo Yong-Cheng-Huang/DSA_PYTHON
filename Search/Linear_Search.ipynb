{
 "cells": [
  {
   "cell_type": "markdown",
   "metadata": {},
   "source": [
    "### Linear Search\n",
    "\n",
    "Check each item one by one.\n",
    "\n",
    "#### Steps:\n",
    "\n",
    "1. Start from index 0.\n",
    "\n",
    "2. Compare each element to target.\n",
    "\n",
    "3. If match → return index.\n",
    "\n",
    "4. If end reached → not found.\n",
    "\n",
    "Time Complexity: O(n)"
   ]
  },
  {
   "cell_type": "code",
   "execution_count": 1,
   "metadata": {},
   "outputs": [
    {
     "name": "stdout",
     "output_type": "stream",
     "text": [
      "Linear Search: Element found at index 3\n"
     ]
    }
   ],
   "source": [
    "def linear_search(arr, target):\n",
    "    for i in range(len(arr)):\n",
    "        if arr[i] == target:\n",
    "            return i\n",
    "    return -1\n",
    "\n",
    "arr = [2, 3, 4, 10, 40]\n",
    "target = 10\n",
    "result = linear_search(arr, target)\n",
    "if result != -1:\n",
    "    print(f'Linear Search: Element found at index {result}')\n",
    "else:\n",
    "    print(f'Linear Search: Element not found')"
   ]
  }
 ],
 "metadata": {
  "kernelspec": {
   "display_name": ".venv",
   "language": "python",
   "name": "python3"
  },
  "language_info": {
   "codemirror_mode": {
    "name": "ipython",
    "version": 3
   },
   "file_extension": ".py",
   "mimetype": "text/x-python",
   "name": "python",
   "nbconvert_exporter": "python",
   "pygments_lexer": "ipython3",
   "version": "3.12.4"
  }
 },
 "nbformat": 4,
 "nbformat_minor": 2
}
