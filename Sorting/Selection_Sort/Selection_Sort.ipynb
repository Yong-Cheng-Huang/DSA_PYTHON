{
 "cells": [
  {
   "cell_type": "markdown",
   "metadata": {},
   "source": [
    "### Selection Sort\n",
    "\n",
    "Selection Sort is a comparison-based sorting algorithm. It sorts an array by repeatedly selecting the smallest (or largest) element from the unsorted portion and swapping it with the first unsorted element. This process continues until the entire array is sorted.\n",
    "\n",
    "* First we find the smallest element and swap it with the first element. This way we get the smallest element at its correct position.\n",
    "\n",
    "* Then we find the smallest among remaining elements (or second smallest) and swap it with the second element.\n",
    "\n",
    "* We keep doing this until we get all elements moved to correct position.\n",
    "\n",
    "![Selection Sort](img/selection-sort-1.jpg)\n",
    "\n",
    "![Selection Sort](img/selection-sort-2.jpg)\n",
    "\n",
    "![Selection Sort](img/selection-sort-3.jpg)\n",
    "\n",
    "![Selection Sort](img/selection-sort-4.jpg)\n",
    "\n",
    "![Selection Sort](img/selection-sort-5.jpg)\n",
    "\n",
    "![Selection Sort](img/selection-sort-6.jpg)\n",
    "\n",
    "\n",
    "Time Complexity: O(n^2)\n",
    "\n",
    "(n-1) + (n-2) + ... + 1 = n * (n-1) / 2\n"
   ]
  },
  {
   "cell_type": "code",
   "execution_count": 12,
   "metadata": {},
   "outputs": [
    {
     "name": "stdout",
     "output_type": "stream",
     "text": [
      "Unsorted Array: [-2, 45, 0, 11, -9, 88, -97, -202, 747]\n",
      "Sorted Array: [-202, -97, -9, -2, 0, 11, 45, 88, 747]\n"
     ]
    }
   ],
   "source": [
    "def selection_sort(arr, size):\n",
    "    for ind in range(size):\n",
    "        min_index = ind\n",
    "        for j in range(ind + 1, size):\n",
    "            if arr[j] < arr[min_index]:\n",
    "                min_index = j\n",
    "        arr[ind], arr[min_index] = arr[min_index], arr[ind]\n",
    "        \n",
    "arr = [-2, 45, 0, 11, -9, 88, -97, -202, 747]\n",
    "size = len(arr)\n",
    "\n",
    "print('Unsorted Array:', arr)\n",
    "selection_sort(arr, size)\n",
    "print('Sorted Array:', arr)"
   ]
  }
 ],
 "metadata": {
  "kernelspec": {
   "display_name": ".venv",
   "language": "python",
   "name": "python3"
  },
  "language_info": {
   "codemirror_mode": {
    "name": "ipython",
    "version": 3
   },
   "file_extension": ".py",
   "mimetype": "text/x-python",
   "name": "python",
   "nbconvert_exporter": "python",
   "pygments_lexer": "ipython3",
   "version": "3.12.4"
  }
 },
 "nbformat": 4,
 "nbformat_minor": 2
}
