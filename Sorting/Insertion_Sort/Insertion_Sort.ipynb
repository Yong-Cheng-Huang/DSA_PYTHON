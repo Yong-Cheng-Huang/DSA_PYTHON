{
 "cells": [
  {
   "cell_type": "markdown",
   "metadata": {},
   "source": [
    "### Insertion Sort\n",
    "\n",
    "Insertion sort is a simple sorting algorithm hat works by iteratively inserting each element of an unsorted list into its correct position in a sorted portion of the list.\n",
    "\n",
    "* The insertion_sort function takes an array arr as input. It first calculates the length of the array (n). If the length is 0 or 1, the function returns immediately as an array with 0 or 1 element is considered already sorted.\n",
    "\n",
    "* For arrays with more than one element. We start with second element of the array as first element in the array is assumed to be sorted.\n",
    "\n",
    "* Compare second element with the first element and check if the second element is smaller then swap them.\n",
    "\n",
    "* Move to the third element and compare it with the first two elements and put at its correct position.\n",
    "\n",
    "* Repeat until the entire array is sorted.\n",
    "\n",
    "![Insertion Sort](img/insertion-sort.jpg)\n",
    "\n",
    "Time Complexity: O(n^2)\n"
   ]
  },
  {
   "cell_type": "code",
   "execution_count": 8,
   "metadata": {},
   "outputs": [
    {
     "name": "stdout",
     "output_type": "stream",
     "text": [
      "Unsorted Array: [12, 11, 13, 5, 6]\n",
      "Sorted Array: [5, 6, 11, 12, 13]\n"
     ]
    }
   ],
   "source": [
    "def insertion_sort(arr):\n",
    "    n = len(arr)\n",
    "    if n <= 1: # If the array has 0 or 1 element, it is already sorted\n",
    "        return\n",
    "    for i in range(1, n): # Start from the second element\n",
    "        key = arr[i] # Current element to be inserted\n",
    "        j = i - 1 # Index of the last element in the sorted portion\n",
    "        while j >= 0 and key < arr[j]: # Move elements to the right to make space for the key\n",
    "            arr[j + 1] = arr[j] # Shift the element to the right\n",
    "            j -= 1 # Move to the next element in the sorted portion\n",
    "        arr[j + 1] = key # Insert the key in its correct position\n",
    "        \n",
    "arr = [12, 11, 13, 5, 6]\n",
    "print('Unsorted Array:', arr)\n",
    "\n",
    "insertion_sort(arr)\n",
    "print('Sorted Array:', arr)"
   ]
  }
 ],
 "metadata": {
  "kernelspec": {
   "display_name": ".venv",
   "language": "python",
   "name": "python3"
  },
  "language_info": {
   "codemirror_mode": {
    "name": "ipython",
    "version": 3
   },
   "file_extension": ".py",
   "mimetype": "text/x-python",
   "name": "python",
   "nbconvert_exporter": "python",
   "pygments_lexer": "ipython3",
   "version": "3.12.4"
  }
 },
 "nbformat": 4,
 "nbformat_minor": 2
}
