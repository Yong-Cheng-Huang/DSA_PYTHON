{
 "cells": [
  {
   "cell_type": "markdown",
   "metadata": {},
   "source": [
    "### Bubble Sort\n",
    "\n",
    "Bubble Sort is the simplest sorting algorithm that works by repeatedly swapping the adjacent elements if they are in the wrong order.\n",
    "\n",
    "* Bubble Sort algorithm, sorts an array by repeatedly comparing adjacent elements and swapping them if they are in the wrong order.\n",
    "\n",
    "* The algorithm iterates through the array multiple times, with each pass pushing the largest unsorted elements to its correct position at the end.\n",
    "\n",
    "* Code includes an optimization: if no swaps are made during a pass, the array is already sorted, and the sorting process stops.\n",
    "\n",
    "![Bubble Sort](img/bubble-sort-1.jpg)\n",
    "\n",
    "![Bubble Sort](img/bubble-sort-2.jpg)\n",
    "\n",
    "![Bubble Sort](img/bubble-sort-3.jpg)\n",
    "\n",
    "Time Complexity:\n",
    "\n",
    "Best case (O(n)) occurs when the array is already sorted — only one pass is needed with no swaps.\n",
    "\n",
    "Worst and average case (O(n²)) happen when the array is in reverse or random order — requiring nested loops.\n"
   ]
  },
  {
   "cell_type": "code",
   "execution_count": 2,
   "metadata": {},
   "outputs": [
    {
     "name": "stdout",
     "output_type": "stream",
     "text": [
      "Unsorted Array: [5, 6, 1, 3]\n",
      "Sorted Array: [1, 3, 5, 6]\n"
     ]
    }
   ],
   "source": [
    "def bubble_sort(arr):\n",
    "    for n in range(len(arr) - 1, 0, -1):\n",
    "        swapped = False\n",
    "        for i in range(n):\n",
    "            if arr[i] > arr[i + 1]:\n",
    "                arr[i], arr[i + 1] = arr[i + 1], arr[i]\n",
    "                swapped = True\n",
    "        if not swapped:\n",
    "            break\n",
    "    \n",
    "arr = [5, 6, 1, 3]\n",
    "print('Unsorted Array:', arr)\n",
    "\n",
    "bubble_sort(arr)\n",
    "print('Sorted Array:', arr)"
   ]
  }
 ],
 "metadata": {
  "kernelspec": {
   "display_name": ".venv",
   "language": "python",
   "name": "python3"
  },
  "language_info": {
   "codemirror_mode": {
    "name": "ipython",
    "version": 3
   },
   "file_extension": ".py",
   "mimetype": "text/x-python",
   "name": "python",
   "nbconvert_exporter": "python",
   "pygments_lexer": "ipython3",
   "version": "3.12.4"
  }
 },
 "nbformat": 4,
 "nbformat_minor": 2
}
