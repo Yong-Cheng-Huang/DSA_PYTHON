{
 "cells": [
  {
   "cell_type": "markdown",
   "metadata": {},
   "source": [
    "### Quick Sort\n",
    "\n",
    "QuickSort is a sorting algorithm based on the **Divide and Conquer** that picks an element as a pivot and partitions the given array around the picked pivot by placing the pivot in its correct position in the sorted array.\n",
    "\n",
    "### Steps:\n",
    "1. Choose a Pivot: Select an element from the array as the pivot. The choice of pivot can vary (e.g., first element, last element, random element, or median).\n",
    "\n",
    "2. Partition the Array: Rearrange the array around the pivot. After partitioning, all elements smaller than the pivot will be on its left, and all elements greater than the pivot will be on its right. The pivot is then in its correct position, and we obtain the index of the pivot.\n",
    "\n",
    "3. Recursively Call: Recursively apply the same process to the two partitioned sub-arrays (left and right of the pivot).\n",
    "\n",
    "4. Base Base: The recursion stops when there is onlh one element left in the sub-array, as a single element is already sorted.\n",
    "\n",
    "![Quick Sort](img/quick-sort-1.jpg)\n",
    "\n",
    "![Quick Sort](img/quick-sort-2.jpg)\n",
    "\n",
    "![Quick Sort](img/quick-sort-3.jpg)\n",
    "\n",
    "![Quick Sort](img/quick-sort-4.jpg)\n",
    "\n",
    "![Quick Sort](img/quick-sort-5.jpg)\n",
    "\n",
    "![Quick Sort](img/quick-sort-6.jpg)\n",
    "\n",
    "Time Complexity:\n",
    "Worst case time complexity is O(n^2) and average case time complexity is O(nlog(n))\n"
   ]
  },
  {
   "cell_type": "markdown",
   "metadata": {},
   "source": [
    "#### 遞迴版本\n",
    "\n",
    "此版本雖然容易理解，但會影響到空間複雜度，每次都需要申請兩個子數列的記憶體空間，遞迴的深度越多，需要記憶體空間就越大。\n",
    "\n",
    "##### 操作流程:\n",
    "\n",
    "1. 資料列中找出一個基準值(Pivot)\n",
    "\n",
    "2. 將小於Pivot的資料放在左邊，大於Pivot的資料放在右邊\n",
    "\n",
    "3. 左右兩邊資料分別重複1~2步驟，直到剩下1筆資料\n",
    "\n",
    "4. 合併\n",
    "\n",
    "![Quick Sort](img/recursion.jpg)\n",
    "\n"
   ]
  },
  {
   "cell_type": "code",
   "execution_count": 10,
   "metadata": {},
   "outputs": [
    {
     "name": "stdout",
     "output_type": "stream",
     "text": [
      "[10, 20, 30, 40, 50, 60, 70, 80, 90]\n"
     ]
    }
   ],
   "source": [
    "def quick_sort(arr):\n",
    "    n = len(arr)\n",
    "    if n <= 1:\n",
    "        return arr\n",
    "    left = []\n",
    "    right = []\n",
    "    pivot = arr[0]\n",
    "    for i in range(1, n):\n",
    "        if arr[i] < pivot:\n",
    "            left.append(arr[i])\n",
    "        else:\n",
    "            right.append(arr[i])\n",
    "    return quick_sort(left) + [pivot] + quick_sort(right)\n",
    "\n",
    "arr = [50, 90, 70, 20, 10, 30, 40, 60, 80]\n",
    "print(quick_sort(arr))"
   ]
  },
  {
   "cell_type": "markdown",
   "metadata": {},
   "source": [
    "#### 原地交換版本(In-Place)-Lomuto partition scheme\n",
    "\n",
    "基於Lomuto partition scheme的原理，原始資料列使用一個指標與索引，當索引的資料小於Pivot時，索引的資料與指標位置資料交換。\n",
    "\n",
    "前面的版本會需要額外的記憶體空間，In-Place版本不需要額外的子數列記憶體空間，因為只會更改原本的數列，切割的同時也就等同合併了，所以只需花費常數O(1)的空間複雜度。實作時會需要用到Partition輔助函式，來直接分割原本的數列。\n",
    "\n",
    "##### 操作流程:\n",
    "\n",
    "1. 資料列最後一筆設定為基準值(Pivot)\n",
    "\n",
    "2. 設定一個指標指向資料列第一筆，用來記錄小於Pivot的資料位置\n",
    "\n",
    "3. 逐一與Pivot比較\n",
    "\n",
    "4. 若當前資料小於Pivot，就將該資料與指標位置的資料做交換，接著指標往下一個位置移動\n",
    "\n",
    "5. 若當前資料大於等於Pivot，則跳過不做任何動作\n",
    "\n",
    "6. 當所有資料比較過後，再將Pivot與指標位置的資料交換\n",
    "\n",
    "7. 左右兩邊資料列分別重複1~6步驟，直到剩下1筆分割交換完成，不須合併\n",
    "\n",
    "![Quick Sort](img/lomuto-1.jpg)\n",
    "\n",
    "![Quick Sort](img/lomuto-2.jpg)"
   ]
  },
  {
   "cell_type": "code",
   "execution_count": 9,
   "metadata": {},
   "outputs": [
    {
     "name": "stdout",
     "output_type": "stream",
     "text": [
      "[10, 20, 30, 40, 50, 60, 70, 80, 90]\n"
     ]
    }
   ],
   "source": [
    "def quick_sort(arr, start, end):\n",
    "    if start < end:\n",
    "        pivot_index = partition(arr, start, end)\n",
    "        quick_sort(arr, start, pivot_index - 1)\n",
    "        quick_sort(arr, pivot_index + 1, end)\n",
    "    return arr\n",
    "\n",
    "def partition(arr, start, end):\n",
    "    n = len(arr)\n",
    "    pivot = arr[end]\n",
    "    next_index = start\n",
    "    for i in range(start, n - 1):\n",
    "        if arr[i] < pivot:\n",
    "            arr[i], arr[next_index] = arr[next_index], arr[i]\n",
    "            next_index += 1\n",
    "    arr[next_index], arr[end] = arr[end], arr[next_index]\n",
    "    return next_index\n",
    "\n",
    "arr = [50, 90, 70, 20, 10, 30, 40, 60, 80]\n",
    "print(quick_sort(arr, 0 , len(arr) - 1))"
   ]
  }
 ],
 "metadata": {
  "kernelspec": {
   "display_name": ".venv",
   "language": "python",
   "name": "python3"
  },
  "language_info": {
   "codemirror_mode": {
    "name": "ipython",
    "version": 3
   },
   "file_extension": ".py",
   "mimetype": "text/x-python",
   "name": "python",
   "nbconvert_exporter": "python",
   "pygments_lexer": "ipython3",
   "version": "3.12.4"
  }
 },
 "nbformat": 4,
 "nbformat_minor": 2
}
