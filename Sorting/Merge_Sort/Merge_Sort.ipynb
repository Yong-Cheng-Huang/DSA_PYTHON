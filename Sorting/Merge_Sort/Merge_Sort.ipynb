{
 "cells": [
  {
   "cell_type": "markdown",
   "metadata": {},
   "source": [
    "### Merge Sort\n",
    "\n",
    "Merge Sort is a **Divide and Conquer** algorithm. It divides input array in two halves, calls itself for the two halves and then merges the two sorted halves.\n",
    "\n",
    "### Steps:\n",
    "1. Divide: Divide the list or array recursively into two halves until it can no more be divided.\n",
    "\n",
    "2. Conquer: Each subarray is sorted individually using the merge sort algorithm.\n",
    "\n",
    "3. Merge: The sorted subarrays are merged back together in sorted order. The process continues until all elements from both subarrays have been merged.\n",
    "\n",
    "![Merge Sort](img/merge-sort-1.jpg)\n",
    "\n",
    "![Merge Sort](img/merge-sort-2.jpg)\n",
    "\n",
    "![Merge Sort](img/merge-sort-3.jpg)\n",
    "\n",
    "![Merge Sort](img/merge-sort-4.jpg)\n",
    "\n",
    "Let’s look at the working of above example: \n",
    "\n",
    "Divide: \n",
    "\n",
    "* [38, 27, 43, 10]  is divided into  [38, 27] and  [43, 10]\n",
    "* [38, 27]  is divided into  [38]  and  [27] \n",
    "* [43, 10]  is divided into  [43]  and  [10] \n",
    "\n",
    "Conquer: \n",
    "\n",
    "* [38]  is already sorted. \n",
    "* [27]  is already sorted. \n",
    "* [43]  is already sorted. \n",
    "* [10]  is already sorted. \n",
    "\n",
    "Merge: \n",
    "\n",
    "* Merge  [38]  and  [27]  to get  [27, 38] \n",
    "* Merge  [43]  and  [10]  to get  [10, 43] \n",
    "* Merge  [27, 38]  and  [10,43]  to get the final sorted list  [10, 27, 38, 43] \n",
    "\n",
    "Therefore, the sorted list is  [10, 27, 38, 43] \n",
    "\n",
    "\n",
    "Time Complexity: O(n*log(n))\n"
   ]
  },
  {
   "cell_type": "code",
   "execution_count": 2,
   "metadata": {},
   "outputs": [
    {
     "name": "stdout",
     "output_type": "stream",
     "text": [
      "Unsorted Array: [6, 1, 5, 7, 3, 9, 4]\n",
      "Sorted Array: [1, 3, 4, 5, 6, 7, 9]\n"
     ]
    }
   ],
   "source": [
    "def merge(left, right):\n",
    "    output = []\n",
    "    i = j = 0\n",
    "\n",
    "    while i < len(left) and j < len(right):\n",
    "        if left[i] <= right[j]:\n",
    "            output.append(left[i])\n",
    "            i += 1\n",
    "        else:\n",
    "            output.append(right[j])\n",
    "            j += 1\n",
    "\n",
    "    output += left[i:]\n",
    "    output += right[j:]\n",
    "    return output\n",
    "\n",
    "def merge_sort(arr):\n",
    "    if len(arr) <= 1:\n",
    "        return arr\n",
    "\n",
    "    mid = len(arr) // 2\n",
    "    left = merge_sort(arr[:mid])\n",
    "    right = merge_sort(arr[mid:])\n",
    "\n",
    "    return merge(left, right)\n",
    "\n",
    "arr = [6, 1, 5, 7, 3, 9, 4]\n",
    "print('Unsorted Array:', arr)\n",
    "\n",
    "arr = merge_sort(arr)\n",
    "print('Sorted Array:', arr)"
   ]
  }
 ],
 "metadata": {
  "kernelspec": {
   "display_name": ".venv",
   "language": "python",
   "name": "python3"
  },
  "language_info": {
   "codemirror_mode": {
    "name": "ipython",
    "version": 3
   },
   "file_extension": ".py",
   "mimetype": "text/x-python",
   "name": "python",
   "nbconvert_exporter": "python",
   "pygments_lexer": "ipython3",
   "version": "3.12.4"
  }
 },
 "nbformat": 4,
 "nbformat_minor": 2
}
