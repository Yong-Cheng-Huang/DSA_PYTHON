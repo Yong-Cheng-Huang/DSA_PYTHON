{
 "cells": [
  {
   "cell_type": "code",
   "execution_count": 7,
   "metadata": {},
   "outputs": [
    {
     "name": "stdout",
     "output_type": "stream",
     "text": [
      "10 20 30 "
     ]
    }
   ],
   "source": [
    "# Node class\n",
    "class Node:\n",
    "    def __init__(self, data):\n",
    "        self.data = data\n",
    "        self.next = None\n",
    "\n",
    "if __name__ == '__main__':\n",
    "    # Create a linked list\n",
    "    # 10 -> 20 -> 30\n",
    "    head = Node(10)\n",
    "    head.next = Node(20)\n",
    "    head.next.next = Node(30)\n",
    "\n",
    "    # Print the list\n",
    "    temp = head\n",
    "    while temp != None:\n",
    "        print(temp.data, end = \" \")\n",
    "        temp = temp.next"
   ]
  }
 ],
 "metadata": {
  "kernelspec": {
   "display_name": ".venv",
   "language": "python",
   "name": "python3"
  },
  "language_info": {
   "codemirror_mode": {
    "name": "ipython",
    "version": 3
   },
   "file_extension": ".py",
   "mimetype": "text/x-python",
   "name": "python",
   "nbconvert_exporter": "python",
   "pygments_lexer": "ipython3",
   "version": "3.12.4"
  }
 },
 "nbformat": 4,
 "nbformat_minor": 2
}
