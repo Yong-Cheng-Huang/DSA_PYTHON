{
 "cells": [
  {
   "cell_type": "code",
   "execution_count": 11,
   "metadata": {},
   "outputs": [
    {
     "name": "stdout",
     "output_type": "stream",
     "text": [
      "\n",
      "Preorder traversal of the constructed tree is\n",
      "1 2 4 5 3 \n",
      "Inorder traversal of the constructed tree is\n",
      "4 2 5 1 3 \n",
      "Postorder traversal of the constructed tree is\n",
      "4 5 2 3 1 "
     ]
    }
   ],
   "source": [
    "# Structure of a Binary Tree Node\n",
    "class Node:\n",
    "    def __init__(self, v):\n",
    "        self.data = v\n",
    "        self.left = None\n",
    "        self.right = None\n",
    "\n",
    "def printPreorder(root):\n",
    "    if (root == None):\n",
    "        return\n",
    "    print(root.data, end = \" \")\n",
    "    printPreorder(root.left)\n",
    "    printPreorder(root.right)\n",
    "\n",
    "def printInorder(root):\n",
    "    if (root == None):\n",
    "        return\n",
    "    printInorder(root.left)\n",
    "    print(root.data, end = \" \")\n",
    "    printInorder(root.right)\n",
    "\n",
    "def printPostorder(root):\n",
    "    if (root == None):\n",
    "        return\n",
    "    printPostorder(root.left)\n",
    "    printPostorder(root.right)\n",
    "    print(root.data, end = \" \")\n",
    "\n",
    "\n",
    "if __name__ == '__main__':\n",
    "    # Construct Binary Tree of 4 nodes\n",
    "    root = Node(1)\n",
    "    root.left = Node(2)\n",
    "    root.right = Node(3)\n",
    "    root.left.left = Node(4)\n",
    "    root.left.right = Node(5)\n",
    "\n",
    "    print('\\nPreorder traversal of the constructed tree is')\n",
    "    printPreorder(root)\n",
    "    print('\\nInorder traversal of the constructed tree is')\n",
    "    printInorder(root)\n",
    "    print('\\nPostorder traversal of the constructed tree is')\n",
    "    printPostorder(root)\n"
   ]
  }
 ],
 "metadata": {
  "kernelspec": {
   "display_name": ".venv",
   "language": "python",
   "name": "python3"
  },
  "language_info": {
   "codemirror_mode": {
    "name": "ipython",
    "version": 3
   },
   "file_extension": ".py",
   "mimetype": "text/x-python",
   "name": "python",
   "nbconvert_exporter": "python",
   "pygments_lexer": "ipython3",
   "version": "3.12.4"
  }
 },
 "nbformat": 4,
 "nbformat_minor": 2
}
